{
  "metadata": {
    "kernelspec": {
      "language": "python",
      "display_name": "Python 3",
      "name": "python3"
    },
    "language_info": {
      "name": "python",
      "version": "3.10.13",
      "mimetype": "text/x-python",
      "codemirror_mode": {
        "name": "ipython",
        "version": 3
      },
      "pygments_lexer": "ipython3",
      "nbconvert_exporter": "python",
      "file_extension": ".py"
    },
    "kaggle": {
      "accelerator": "none",
      "dataSources": [
        {
          "sourceId": 23498,
          "sourceType": "datasetVersion",
          "datasetId": 310
        }
      ],
      "dockerImageVersionId": 30732,
      "isInternetEnabled": true,
      "language": "python",
      "sourceType": "notebook",
      "isGpuEnabled": false
    },
    "colab": {
      "name": "Credit_card_fraud_detection (Logistic Regression)",
      "provenance": []
    }
  },
  "nbformat_minor": 0,
  "nbformat": 4,
  "cells": [
    {
      "source": [
        "\n",
        "# IMPORTANT: RUN THIS CELL IN ORDER TO IMPORT YOUR KAGGLE DATA SOURCES\n",
        "# TO THE CORRECT LOCATION (/kaggle/input) IN YOUR NOTEBOOK,\n",
        "# THEN FEEL FREE TO DELETE THIS CELL.\n",
        "# NOTE: THIS NOTEBOOK ENVIRONMENT DIFFERS FROM KAGGLE'S PYTHON\n",
        "# ENVIRONMENT SO THERE MAY BE MISSING LIBRARIES USED BY YOUR\n",
        "# NOTEBOOK.\n",
        "\n",
        "import os\n",
        "import sys\n",
        "from tempfile import NamedTemporaryFile\n",
        "from urllib.request import urlopen\n",
        "from urllib.parse import unquote, urlparse\n",
        "from urllib.error import HTTPError\n",
        "from zipfile import ZipFile\n",
        "import tarfile\n",
        "import shutil\n",
        "\n",
        "CHUNK_SIZE = 40960\n",
        "DATA_SOURCE_MAPPING = 'creditcardfraud:https%3A%2F%2Fstorage.googleapis.com%2Fkaggle-data-sets%2F310%2F23498%2Fbundle%2Farchive.zip%3FX-Goog-Algorithm%3DGOOG4-RSA-SHA256%26X-Goog-Credential%3Dgcp-kaggle-com%2540kaggle-161607.iam.gserviceaccount.com%252F20240627%252Fauto%252Fstorage%252Fgoog4_request%26X-Goog-Date%3D20240627T103148Z%26X-Goog-Expires%3D259200%26X-Goog-SignedHeaders%3Dhost%26X-Goog-Signature%3D34144845fab67c5bc582256d0bbb11c23269d5846b807807787ddb2460dcb7e042aed45c53f1263b8ea7f70166ecb65a049d148b8c1e9b6683f4d8d891c2d5a741812099063f39500c1e533d12026d9ed1ea8f0738740dc4eedcd8ee38930dcaba9f560d6e203f10d6f6349029907cf91fae846ba6219ce9e34baf801055eb5683d48dc51c4725c30c6a3e8eeb58374d04f2b673cd4db7d082fa52df8e7814c7eafe5edd92d05d25711026765e089f3dbc444c1c6b80bcda5790f052ab9cec24de26aaf0b8b0ee02b3a62c3ba53285b02f71dd590d3c22b95b3af61471b8e1e758ab78daca224246c0bfd7d38d4680028ecd6942427d2079e0913919be89cae7'\n",
        "\n",
        "KAGGLE_INPUT_PATH='/kaggle/input'\n",
        "KAGGLE_WORKING_PATH='/kaggle/working'\n",
        "KAGGLE_SYMLINK='kaggle'\n",
        "\n",
        "!umount /kaggle/input/ 2> /dev/null\n",
        "shutil.rmtree('/kaggle/input', ignore_errors=True)\n",
        "os.makedirs(KAGGLE_INPUT_PATH, 0o777, exist_ok=True)\n",
        "os.makedirs(KAGGLE_WORKING_PATH, 0o777, exist_ok=True)\n",
        "\n",
        "try:\n",
        "  os.symlink(KAGGLE_INPUT_PATH, os.path.join(\"..\", 'input'), target_is_directory=True)\n",
        "except FileExistsError:\n",
        "  pass\n",
        "try:\n",
        "  os.symlink(KAGGLE_WORKING_PATH, os.path.join(\"..\", 'working'), target_is_directory=True)\n",
        "except FileExistsError:\n",
        "  pass\n",
        "\n",
        "for data_source_mapping in DATA_SOURCE_MAPPING.split(','):\n",
        "    directory, download_url_encoded = data_source_mapping.split(':')\n",
        "    download_url = unquote(download_url_encoded)\n",
        "    filename = urlparse(download_url).path\n",
        "    destination_path = os.path.join(KAGGLE_INPUT_PATH, directory)\n",
        "    try:\n",
        "        with urlopen(download_url) as fileres, NamedTemporaryFile() as tfile:\n",
        "            total_length = fileres.headers['content-length']\n",
        "            print(f'Downloading {directory}, {total_length} bytes compressed')\n",
        "            dl = 0\n",
        "            data = fileres.read(CHUNK_SIZE)\n",
        "            while len(data) > 0:\n",
        "                dl += len(data)\n",
        "                tfile.write(data)\n",
        "                done = int(50 * dl / int(total_length))\n",
        "                sys.stdout.write(f\"\\r[{'=' * done}{' ' * (50-done)}] {dl} bytes downloaded\")\n",
        "                sys.stdout.flush()\n",
        "                data = fileres.read(CHUNK_SIZE)\n",
        "            if filename.endswith('.zip'):\n",
        "              with ZipFile(tfile) as zfile:\n",
        "                zfile.extractall(destination_path)\n",
        "            else:\n",
        "              with tarfile.open(tfile.name) as tarfile:\n",
        "                tarfile.extractall(destination_path)\n",
        "            print(f'\\nDownloaded and uncompressed: {directory}')\n",
        "    except HTTPError as e:\n",
        "        print(f'Failed to load (likely expired) {download_url} to path {destination_path}')\n",
        "        continue\n",
        "    except OSError as e:\n",
        "        print(f'Failed to load {download_url} to path {destination_path}')\n",
        "        continue\n",
        "\n",
        "print('Data source import complete.')\n"
      ],
      "metadata": {
        "id": "W_ixwfdWQGFn",
        "outputId": "5723d9c1-bcc1-4b0e-c257-23fcdf142bb2",
        "colab": {
          "base_uri": "https://localhost:8080/"
        }
      },
      "cell_type": "code",
      "outputs": [
        {
          "output_type": "stream",
          "name": "stdout",
          "text": [
            "Downloading creditcardfraud, 69155672 bytes compressed\n",
            "[==================================================] 69155672 bytes downloaded\n",
            "Downloaded and uncompressed: creditcardfraud\n",
            "Data source import complete.\n"
          ]
        }
      ],
      "execution_count": 1
    },
    {
      "cell_type": "code",
      "source": [
        "import numpy as np # linear algebra\n",
        "import pandas as pd # data processing, CSV file I/O (e.g. pd.read_csv)\n",
        "\n",
        "# Input data files are available in the read-only \"../input/\" directory\n",
        "# For example, running this (by clicking run or pressing Shift+Enter) will list all files under the input directory\n",
        "\n",
        "import os\n",
        "for dirname, _, filenames in os.walk('/kaggle/input'):\n",
        "    for filename in filenames:\n",
        "        print(os.path.join(dirname, filename))"
      ],
      "metadata": {
        "_uuid": "8f2839f25d086af736a60e9eeb907d3b93b6e0e5",
        "_cell_guid": "b1076dfc-b9ad-4769-8c92-a6c4dae69d19",
        "execution": {
          "iopub.status.busy": "2024-06-27T09:54:46.009021Z",
          "iopub.execute_input": "2024-06-27T09:54:46.009472Z",
          "iopub.status.idle": "2024-06-27T09:54:46.025653Z",
          "shell.execute_reply.started": "2024-06-27T09:54:46.009437Z",
          "shell.execute_reply": "2024-06-27T09:54:46.023724Z"
        },
        "trusted": true,
        "id": "ZiBqWryaQGFr",
        "outputId": "a5fe1269-bd11-46cb-c093-443e8d5116ac",
        "colab": {
          "base_uri": "https://localhost:8080/"
        }
      },
      "execution_count": 2,
      "outputs": [
        {
          "output_type": "stream",
          "name": "stdout",
          "text": [
            "/kaggle/input/creditcardfraud/creditcard.csv\n"
          ]
        }
      ]
    },
    {
      "cell_type": "code",
      "source": [
        "train = pd.read_csv(\"/kaggle/input/creditcardfraud/creditcard.csv\")\n",
        "test = pd.read_csv(\"/kaggle/input/creditcardfraud/creditcard.csv\")"
      ],
      "metadata": {
        "execution": {
          "iopub.status.busy": "2024-06-27T09:31:21.894717Z",
          "iopub.execute_input": "2024-06-27T09:31:21.895099Z",
          "iopub.status.idle": "2024-06-27T09:31:30.152757Z",
          "shell.execute_reply.started": "2024-06-27T09:31:21.895072Z",
          "shell.execute_reply": "2024-06-27T09:31:30.15147Z"
        },
        "trusted": true,
        "id": "TSG7uV6QQGFs"
      },
      "execution_count": null,
      "outputs": []
    },
    {
      "cell_type": "code",
      "source": [
        "train"
      ],
      "metadata": {
        "execution": {
          "iopub.status.busy": "2024-06-27T09:31:43.841694Z",
          "iopub.execute_input": "2024-06-27T09:31:43.842124Z",
          "iopub.status.idle": "2024-06-27T09:31:43.952016Z",
          "shell.execute_reply.started": "2024-06-27T09:31:43.842093Z",
          "shell.execute_reply": "2024-06-27T09:31:43.950864Z"
        },
        "trusted": true,
        "id": "_EKBEsfuQGFs",
        "outputId": "6b9467fb-f3ea-4929-fa61-e6310c308511"
      },
      "execution_count": null,
      "outputs": [
        {
          "execution_count": 6,
          "output_type": "execute_result",
          "data": {
            "text/plain": "            Time         V1         V2        V3        V4        V5  \\\n0            0.0  -1.359807  -0.072781  2.536347  1.378155 -0.338321   \n1            0.0   1.191857   0.266151  0.166480  0.448154  0.060018   \n2            1.0  -1.358354  -1.340163  1.773209  0.379780 -0.503198   \n3            1.0  -0.966272  -0.185226  1.792993 -0.863291 -0.010309   \n4            2.0  -1.158233   0.877737  1.548718  0.403034 -0.407193   \n...          ...        ...        ...       ...       ...       ...   \n284802  172786.0 -11.881118  10.071785 -9.834783 -2.066656 -5.364473   \n284803  172787.0  -0.732789  -0.055080  2.035030 -0.738589  0.868229   \n284804  172788.0   1.919565  -0.301254 -3.249640 -0.557828  2.630515   \n284805  172788.0  -0.240440   0.530483  0.702510  0.689799 -0.377961   \n284806  172792.0  -0.533413  -0.189733  0.703337 -0.506271 -0.012546   \n\n              V6        V7        V8        V9  ...       V21       V22  \\\n0       0.462388  0.239599  0.098698  0.363787  ... -0.018307  0.277838   \n1      -0.082361 -0.078803  0.085102 -0.255425  ... -0.225775 -0.638672   \n2       1.800499  0.791461  0.247676 -1.514654  ...  0.247998  0.771679   \n3       1.247203  0.237609  0.377436 -1.387024  ... -0.108300  0.005274   \n4       0.095921  0.592941 -0.270533  0.817739  ... -0.009431  0.798278   \n...          ...       ...       ...       ...  ...       ...       ...   \n284802 -2.606837 -4.918215  7.305334  1.914428  ...  0.213454  0.111864   \n284803  1.058415  0.024330  0.294869  0.584800  ...  0.214205  0.924384   \n284804  3.031260 -0.296827  0.708417  0.432454  ...  0.232045  0.578229   \n284805  0.623708 -0.686180  0.679145  0.392087  ...  0.265245  0.800049   \n284806 -0.649617  1.577006 -0.414650  0.486180  ...  0.261057  0.643078   \n\n             V23       V24       V25       V26       V27       V28  Amount  \\\n0      -0.110474  0.066928  0.128539 -0.189115  0.133558 -0.021053  149.62   \n1       0.101288 -0.339846  0.167170  0.125895 -0.008983  0.014724    2.69   \n2       0.909412 -0.689281 -0.327642 -0.139097 -0.055353 -0.059752  378.66   \n3      -0.190321 -1.175575  0.647376 -0.221929  0.062723  0.061458  123.50   \n4      -0.137458  0.141267 -0.206010  0.502292  0.219422  0.215153   69.99   \n...          ...       ...       ...       ...       ...       ...     ...   \n284802  1.014480 -0.509348  1.436807  0.250034  0.943651  0.823731    0.77   \n284803  0.012463 -1.016226 -0.606624 -0.395255  0.068472 -0.053527   24.79   \n284804 -0.037501  0.640134  0.265745 -0.087371  0.004455 -0.026561   67.88   \n284805 -0.163298  0.123205 -0.569159  0.546668  0.108821  0.104533   10.00   \n284806  0.376777  0.008797 -0.473649 -0.818267 -0.002415  0.013649  217.00   \n\n        Class  \n0           0  \n1           0  \n2           0  \n3           0  \n4           0  \n...       ...  \n284802      0  \n284803      0  \n284804      0  \n284805      0  \n284806      0  \n\n[284807 rows x 31 columns]",
            "text/html": "<div>\n<style scoped>\n    .dataframe tbody tr th:only-of-type {\n        vertical-align: middle;\n    }\n\n    .dataframe tbody tr th {\n        vertical-align: top;\n    }\n\n    .dataframe thead th {\n        text-align: right;\n    }\n</style>\n<table border=\"1\" class=\"dataframe\">\n  <thead>\n    <tr style=\"text-align: right;\">\n      <th></th>\n      <th>Time</th>\n      <th>V1</th>\n      <th>V2</th>\n      <th>V3</th>\n      <th>V4</th>\n      <th>V5</th>\n      <th>V6</th>\n      <th>V7</th>\n      <th>V8</th>\n      <th>V9</th>\n      <th>...</th>\n      <th>V21</th>\n      <th>V22</th>\n      <th>V23</th>\n      <th>V24</th>\n      <th>V25</th>\n      <th>V26</th>\n      <th>V27</th>\n      <th>V28</th>\n      <th>Amount</th>\n      <th>Class</th>\n    </tr>\n  </thead>\n  <tbody>\n    <tr>\n      <th>0</th>\n      <td>0.0</td>\n      <td>-1.359807</td>\n      <td>-0.072781</td>\n      <td>2.536347</td>\n      <td>1.378155</td>\n      <td>-0.338321</td>\n      <td>0.462388</td>\n      <td>0.239599</td>\n      <td>0.098698</td>\n      <td>0.363787</td>\n      <td>...</td>\n      <td>-0.018307</td>\n      <td>0.277838</td>\n      <td>-0.110474</td>\n      <td>0.066928</td>\n      <td>0.128539</td>\n      <td>-0.189115</td>\n      <td>0.133558</td>\n      <td>-0.021053</td>\n      <td>149.62</td>\n      <td>0</td>\n    </tr>\n    <tr>\n      <th>1</th>\n      <td>0.0</td>\n      <td>1.191857</td>\n      <td>0.266151</td>\n      <td>0.166480</td>\n      <td>0.448154</td>\n      <td>0.060018</td>\n      <td>-0.082361</td>\n      <td>-0.078803</td>\n      <td>0.085102</td>\n      <td>-0.255425</td>\n      <td>...</td>\n      <td>-0.225775</td>\n      <td>-0.638672</td>\n      <td>0.101288</td>\n      <td>-0.339846</td>\n      <td>0.167170</td>\n      <td>0.125895</td>\n      <td>-0.008983</td>\n      <td>0.014724</td>\n      <td>2.69</td>\n      <td>0</td>\n    </tr>\n    <tr>\n      <th>2</th>\n      <td>1.0</td>\n      <td>-1.358354</td>\n      <td>-1.340163</td>\n      <td>1.773209</td>\n      <td>0.379780</td>\n      <td>-0.503198</td>\n      <td>1.800499</td>\n      <td>0.791461</td>\n      <td>0.247676</td>\n      <td>-1.514654</td>\n      <td>...</td>\n      <td>0.247998</td>\n      <td>0.771679</td>\n      <td>0.909412</td>\n      <td>-0.689281</td>\n      <td>-0.327642</td>\n      <td>-0.139097</td>\n      <td>-0.055353</td>\n      <td>-0.059752</td>\n      <td>378.66</td>\n      <td>0</td>\n    </tr>\n    <tr>\n      <th>3</th>\n      <td>1.0</td>\n      <td>-0.966272</td>\n      <td>-0.185226</td>\n      <td>1.792993</td>\n      <td>-0.863291</td>\n      <td>-0.010309</td>\n      <td>1.247203</td>\n      <td>0.237609</td>\n      <td>0.377436</td>\n      <td>-1.387024</td>\n      <td>...</td>\n      <td>-0.108300</td>\n      <td>0.005274</td>\n      <td>-0.190321</td>\n      <td>-1.175575</td>\n      <td>0.647376</td>\n      <td>-0.221929</td>\n      <td>0.062723</td>\n      <td>0.061458</td>\n      <td>123.50</td>\n      <td>0</td>\n    </tr>\n    <tr>\n      <th>4</th>\n      <td>2.0</td>\n      <td>-1.158233</td>\n      <td>0.877737</td>\n      <td>1.548718</td>\n      <td>0.403034</td>\n      <td>-0.407193</td>\n      <td>0.095921</td>\n      <td>0.592941</td>\n      <td>-0.270533</td>\n      <td>0.817739</td>\n      <td>...</td>\n      <td>-0.009431</td>\n      <td>0.798278</td>\n      <td>-0.137458</td>\n      <td>0.141267</td>\n      <td>-0.206010</td>\n      <td>0.502292</td>\n      <td>0.219422</td>\n      <td>0.215153</td>\n      <td>69.99</td>\n      <td>0</td>\n    </tr>\n    <tr>\n      <th>...</th>\n      <td>...</td>\n      <td>...</td>\n      <td>...</td>\n      <td>...</td>\n      <td>...</td>\n      <td>...</td>\n      <td>...</td>\n      <td>...</td>\n      <td>...</td>\n      <td>...</td>\n      <td>...</td>\n      <td>...</td>\n      <td>...</td>\n      <td>...</td>\n      <td>...</td>\n      <td>...</td>\n      <td>...</td>\n      <td>...</td>\n      <td>...</td>\n      <td>...</td>\n      <td>...</td>\n    </tr>\n    <tr>\n      <th>284802</th>\n      <td>172786.0</td>\n      <td>-11.881118</td>\n      <td>10.071785</td>\n      <td>-9.834783</td>\n      <td>-2.066656</td>\n      <td>-5.364473</td>\n      <td>-2.606837</td>\n      <td>-4.918215</td>\n      <td>7.305334</td>\n      <td>1.914428</td>\n      <td>...</td>\n      <td>0.213454</td>\n      <td>0.111864</td>\n      <td>1.014480</td>\n      <td>-0.509348</td>\n      <td>1.436807</td>\n      <td>0.250034</td>\n      <td>0.943651</td>\n      <td>0.823731</td>\n      <td>0.77</td>\n      <td>0</td>\n    </tr>\n    <tr>\n      <th>284803</th>\n      <td>172787.0</td>\n      <td>-0.732789</td>\n      <td>-0.055080</td>\n      <td>2.035030</td>\n      <td>-0.738589</td>\n      <td>0.868229</td>\n      <td>1.058415</td>\n      <td>0.024330</td>\n      <td>0.294869</td>\n      <td>0.584800</td>\n      <td>...</td>\n      <td>0.214205</td>\n      <td>0.924384</td>\n      <td>0.012463</td>\n      <td>-1.016226</td>\n      <td>-0.606624</td>\n      <td>-0.395255</td>\n      <td>0.068472</td>\n      <td>-0.053527</td>\n      <td>24.79</td>\n      <td>0</td>\n    </tr>\n    <tr>\n      <th>284804</th>\n      <td>172788.0</td>\n      <td>1.919565</td>\n      <td>-0.301254</td>\n      <td>-3.249640</td>\n      <td>-0.557828</td>\n      <td>2.630515</td>\n      <td>3.031260</td>\n      <td>-0.296827</td>\n      <td>0.708417</td>\n      <td>0.432454</td>\n      <td>...</td>\n      <td>0.232045</td>\n      <td>0.578229</td>\n      <td>-0.037501</td>\n      <td>0.640134</td>\n      <td>0.265745</td>\n      <td>-0.087371</td>\n      <td>0.004455</td>\n      <td>-0.026561</td>\n      <td>67.88</td>\n      <td>0</td>\n    </tr>\n    <tr>\n      <th>284805</th>\n      <td>172788.0</td>\n      <td>-0.240440</td>\n      <td>0.530483</td>\n      <td>0.702510</td>\n      <td>0.689799</td>\n      <td>-0.377961</td>\n      <td>0.623708</td>\n      <td>-0.686180</td>\n      <td>0.679145</td>\n      <td>0.392087</td>\n      <td>...</td>\n      <td>0.265245</td>\n      <td>0.800049</td>\n      <td>-0.163298</td>\n      <td>0.123205</td>\n      <td>-0.569159</td>\n      <td>0.546668</td>\n      <td>0.108821</td>\n      <td>0.104533</td>\n      <td>10.00</td>\n      <td>0</td>\n    </tr>\n    <tr>\n      <th>284806</th>\n      <td>172792.0</td>\n      <td>-0.533413</td>\n      <td>-0.189733</td>\n      <td>0.703337</td>\n      <td>-0.506271</td>\n      <td>-0.012546</td>\n      <td>-0.649617</td>\n      <td>1.577006</td>\n      <td>-0.414650</td>\n      <td>0.486180</td>\n      <td>...</td>\n      <td>0.261057</td>\n      <td>0.643078</td>\n      <td>0.376777</td>\n      <td>0.008797</td>\n      <td>-0.473649</td>\n      <td>-0.818267</td>\n      <td>-0.002415</td>\n      <td>0.013649</td>\n      <td>217.00</td>\n      <td>0</td>\n    </tr>\n  </tbody>\n</table>\n<p>284807 rows × 31 columns</p>\n</div>"
          },
          "metadata": {}
        }
      ]
    },
    {
      "cell_type": "code",
      "source": [
        "test"
      ],
      "metadata": {
        "execution": {
          "iopub.status.busy": "2024-06-27T09:31:56.475988Z",
          "iopub.execute_input": "2024-06-27T09:31:56.476378Z",
          "iopub.status.idle": "2024-06-27T09:31:56.552574Z",
          "shell.execute_reply.started": "2024-06-27T09:31:56.476346Z",
          "shell.execute_reply": "2024-06-27T09:31:56.551137Z"
        },
        "trusted": true,
        "id": "WqlDND3OQGFs",
        "outputId": "958f4d17-b340-40a0-ef0d-cf88d18a1312"
      },
      "execution_count": null,
      "outputs": [
        {
          "execution_count": 7,
          "output_type": "execute_result",
          "data": {
            "text/plain": "            Time         V1         V2        V3        V4        V5  \\\n0            0.0  -1.359807  -0.072781  2.536347  1.378155 -0.338321   \n1            0.0   1.191857   0.266151  0.166480  0.448154  0.060018   \n2            1.0  -1.358354  -1.340163  1.773209  0.379780 -0.503198   \n3            1.0  -0.966272  -0.185226  1.792993 -0.863291 -0.010309   \n4            2.0  -1.158233   0.877737  1.548718  0.403034 -0.407193   \n...          ...        ...        ...       ...       ...       ...   \n284802  172786.0 -11.881118  10.071785 -9.834783 -2.066656 -5.364473   \n284803  172787.0  -0.732789  -0.055080  2.035030 -0.738589  0.868229   \n284804  172788.0   1.919565  -0.301254 -3.249640 -0.557828  2.630515   \n284805  172788.0  -0.240440   0.530483  0.702510  0.689799 -0.377961   \n284806  172792.0  -0.533413  -0.189733  0.703337 -0.506271 -0.012546   \n\n              V6        V7        V8        V9  ...       V21       V22  \\\n0       0.462388  0.239599  0.098698  0.363787  ... -0.018307  0.277838   \n1      -0.082361 -0.078803  0.085102 -0.255425  ... -0.225775 -0.638672   \n2       1.800499  0.791461  0.247676 -1.514654  ...  0.247998  0.771679   \n3       1.247203  0.237609  0.377436 -1.387024  ... -0.108300  0.005274   \n4       0.095921  0.592941 -0.270533  0.817739  ... -0.009431  0.798278   \n...          ...       ...       ...       ...  ...       ...       ...   \n284802 -2.606837 -4.918215  7.305334  1.914428  ...  0.213454  0.111864   \n284803  1.058415  0.024330  0.294869  0.584800  ...  0.214205  0.924384   \n284804  3.031260 -0.296827  0.708417  0.432454  ...  0.232045  0.578229   \n284805  0.623708 -0.686180  0.679145  0.392087  ...  0.265245  0.800049   \n284806 -0.649617  1.577006 -0.414650  0.486180  ...  0.261057  0.643078   \n\n             V23       V24       V25       V26       V27       V28  Amount  \\\n0      -0.110474  0.066928  0.128539 -0.189115  0.133558 -0.021053  149.62   \n1       0.101288 -0.339846  0.167170  0.125895 -0.008983  0.014724    2.69   \n2       0.909412 -0.689281 -0.327642 -0.139097 -0.055353 -0.059752  378.66   \n3      -0.190321 -1.175575  0.647376 -0.221929  0.062723  0.061458  123.50   \n4      -0.137458  0.141267 -0.206010  0.502292  0.219422  0.215153   69.99   \n...          ...       ...       ...       ...       ...       ...     ...   \n284802  1.014480 -0.509348  1.436807  0.250034  0.943651  0.823731    0.77   \n284803  0.012463 -1.016226 -0.606624 -0.395255  0.068472 -0.053527   24.79   \n284804 -0.037501  0.640134  0.265745 -0.087371  0.004455 -0.026561   67.88   \n284805 -0.163298  0.123205 -0.569159  0.546668  0.108821  0.104533   10.00   \n284806  0.376777  0.008797 -0.473649 -0.818267 -0.002415  0.013649  217.00   \n\n        Class  \n0           0  \n1           0  \n2           0  \n3           0  \n4           0  \n...       ...  \n284802      0  \n284803      0  \n284804      0  \n284805      0  \n284806      0  \n\n[284807 rows x 31 columns]",
            "text/html": "<div>\n<style scoped>\n    .dataframe tbody tr th:only-of-type {\n        vertical-align: middle;\n    }\n\n    .dataframe tbody tr th {\n        vertical-align: top;\n    }\n\n    .dataframe thead th {\n        text-align: right;\n    }\n</style>\n<table border=\"1\" class=\"dataframe\">\n  <thead>\n    <tr style=\"text-align: right;\">\n      <th></th>\n      <th>Time</th>\n      <th>V1</th>\n      <th>V2</th>\n      <th>V3</th>\n      <th>V4</th>\n      <th>V5</th>\n      <th>V6</th>\n      <th>V7</th>\n      <th>V8</th>\n      <th>V9</th>\n      <th>...</th>\n      <th>V21</th>\n      <th>V22</th>\n      <th>V23</th>\n      <th>V24</th>\n      <th>V25</th>\n      <th>V26</th>\n      <th>V27</th>\n      <th>V28</th>\n      <th>Amount</th>\n      <th>Class</th>\n    </tr>\n  </thead>\n  <tbody>\n    <tr>\n      <th>0</th>\n      <td>0.0</td>\n      <td>-1.359807</td>\n      <td>-0.072781</td>\n      <td>2.536347</td>\n      <td>1.378155</td>\n      <td>-0.338321</td>\n      <td>0.462388</td>\n      <td>0.239599</td>\n      <td>0.098698</td>\n      <td>0.363787</td>\n      <td>...</td>\n      <td>-0.018307</td>\n      <td>0.277838</td>\n      <td>-0.110474</td>\n      <td>0.066928</td>\n      <td>0.128539</td>\n      <td>-0.189115</td>\n      <td>0.133558</td>\n      <td>-0.021053</td>\n      <td>149.62</td>\n      <td>0</td>\n    </tr>\n    <tr>\n      <th>1</th>\n      <td>0.0</td>\n      <td>1.191857</td>\n      <td>0.266151</td>\n      <td>0.166480</td>\n      <td>0.448154</td>\n      <td>0.060018</td>\n      <td>-0.082361</td>\n      <td>-0.078803</td>\n      <td>0.085102</td>\n      <td>-0.255425</td>\n      <td>...</td>\n      <td>-0.225775</td>\n      <td>-0.638672</td>\n      <td>0.101288</td>\n      <td>-0.339846</td>\n      <td>0.167170</td>\n      <td>0.125895</td>\n      <td>-0.008983</td>\n      <td>0.014724</td>\n      <td>2.69</td>\n      <td>0</td>\n    </tr>\n    <tr>\n      <th>2</th>\n      <td>1.0</td>\n      <td>-1.358354</td>\n      <td>-1.340163</td>\n      <td>1.773209</td>\n      <td>0.379780</td>\n      <td>-0.503198</td>\n      <td>1.800499</td>\n      <td>0.791461</td>\n      <td>0.247676</td>\n      <td>-1.514654</td>\n      <td>...</td>\n      <td>0.247998</td>\n      <td>0.771679</td>\n      <td>0.909412</td>\n      <td>-0.689281</td>\n      <td>-0.327642</td>\n      <td>-0.139097</td>\n      <td>-0.055353</td>\n      <td>-0.059752</td>\n      <td>378.66</td>\n      <td>0</td>\n    </tr>\n    <tr>\n      <th>3</th>\n      <td>1.0</td>\n      <td>-0.966272</td>\n      <td>-0.185226</td>\n      <td>1.792993</td>\n      <td>-0.863291</td>\n      <td>-0.010309</td>\n      <td>1.247203</td>\n      <td>0.237609</td>\n      <td>0.377436</td>\n      <td>-1.387024</td>\n      <td>...</td>\n      <td>-0.108300</td>\n      <td>0.005274</td>\n      <td>-0.190321</td>\n      <td>-1.175575</td>\n      <td>0.647376</td>\n      <td>-0.221929</td>\n      <td>0.062723</td>\n      <td>0.061458</td>\n      <td>123.50</td>\n      <td>0</td>\n    </tr>\n    <tr>\n      <th>4</th>\n      <td>2.0</td>\n      <td>-1.158233</td>\n      <td>0.877737</td>\n      <td>1.548718</td>\n      <td>0.403034</td>\n      <td>-0.407193</td>\n      <td>0.095921</td>\n      <td>0.592941</td>\n      <td>-0.270533</td>\n      <td>0.817739</td>\n      <td>...</td>\n      <td>-0.009431</td>\n      <td>0.798278</td>\n      <td>-0.137458</td>\n      <td>0.141267</td>\n      <td>-0.206010</td>\n      <td>0.502292</td>\n      <td>0.219422</td>\n      <td>0.215153</td>\n      <td>69.99</td>\n      <td>0</td>\n    </tr>\n    <tr>\n      <th>...</th>\n      <td>...</td>\n      <td>...</td>\n      <td>...</td>\n      <td>...</td>\n      <td>...</td>\n      <td>...</td>\n      <td>...</td>\n      <td>...</td>\n      <td>...</td>\n      <td>...</td>\n      <td>...</td>\n      <td>...</td>\n      <td>...</td>\n      <td>...</td>\n      <td>...</td>\n      <td>...</td>\n      <td>...</td>\n      <td>...</td>\n      <td>...</td>\n      <td>...</td>\n      <td>...</td>\n    </tr>\n    <tr>\n      <th>284802</th>\n      <td>172786.0</td>\n      <td>-11.881118</td>\n      <td>10.071785</td>\n      <td>-9.834783</td>\n      <td>-2.066656</td>\n      <td>-5.364473</td>\n      <td>-2.606837</td>\n      <td>-4.918215</td>\n      <td>7.305334</td>\n      <td>1.914428</td>\n      <td>...</td>\n      <td>0.213454</td>\n      <td>0.111864</td>\n      <td>1.014480</td>\n      <td>-0.509348</td>\n      <td>1.436807</td>\n      <td>0.250034</td>\n      <td>0.943651</td>\n      <td>0.823731</td>\n      <td>0.77</td>\n      <td>0</td>\n    </tr>\n    <tr>\n      <th>284803</th>\n      <td>172787.0</td>\n      <td>-0.732789</td>\n      <td>-0.055080</td>\n      <td>2.035030</td>\n      <td>-0.738589</td>\n      <td>0.868229</td>\n      <td>1.058415</td>\n      <td>0.024330</td>\n      <td>0.294869</td>\n      <td>0.584800</td>\n      <td>...</td>\n      <td>0.214205</td>\n      <td>0.924384</td>\n      <td>0.012463</td>\n      <td>-1.016226</td>\n      <td>-0.606624</td>\n      <td>-0.395255</td>\n      <td>0.068472</td>\n      <td>-0.053527</td>\n      <td>24.79</td>\n      <td>0</td>\n    </tr>\n    <tr>\n      <th>284804</th>\n      <td>172788.0</td>\n      <td>1.919565</td>\n      <td>-0.301254</td>\n      <td>-3.249640</td>\n      <td>-0.557828</td>\n      <td>2.630515</td>\n      <td>3.031260</td>\n      <td>-0.296827</td>\n      <td>0.708417</td>\n      <td>0.432454</td>\n      <td>...</td>\n      <td>0.232045</td>\n      <td>0.578229</td>\n      <td>-0.037501</td>\n      <td>0.640134</td>\n      <td>0.265745</td>\n      <td>-0.087371</td>\n      <td>0.004455</td>\n      <td>-0.026561</td>\n      <td>67.88</td>\n      <td>0</td>\n    </tr>\n    <tr>\n      <th>284805</th>\n      <td>172788.0</td>\n      <td>-0.240440</td>\n      <td>0.530483</td>\n      <td>0.702510</td>\n      <td>0.689799</td>\n      <td>-0.377961</td>\n      <td>0.623708</td>\n      <td>-0.686180</td>\n      <td>0.679145</td>\n      <td>0.392087</td>\n      <td>...</td>\n      <td>0.265245</td>\n      <td>0.800049</td>\n      <td>-0.163298</td>\n      <td>0.123205</td>\n      <td>-0.569159</td>\n      <td>0.546668</td>\n      <td>0.108821</td>\n      <td>0.104533</td>\n      <td>10.00</td>\n      <td>0</td>\n    </tr>\n    <tr>\n      <th>284806</th>\n      <td>172792.0</td>\n      <td>-0.533413</td>\n      <td>-0.189733</td>\n      <td>0.703337</td>\n      <td>-0.506271</td>\n      <td>-0.012546</td>\n      <td>-0.649617</td>\n      <td>1.577006</td>\n      <td>-0.414650</td>\n      <td>0.486180</td>\n      <td>...</td>\n      <td>0.261057</td>\n      <td>0.643078</td>\n      <td>0.376777</td>\n      <td>0.008797</td>\n      <td>-0.473649</td>\n      <td>-0.818267</td>\n      <td>-0.002415</td>\n      <td>0.013649</td>\n      <td>217.00</td>\n      <td>0</td>\n    </tr>\n  </tbody>\n</table>\n<p>284807 rows × 31 columns</p>\n</div>"
          },
          "metadata": {}
        }
      ]
    },
    {
      "cell_type": "code",
      "source": [
        "train.info()"
      ],
      "metadata": {
        "execution": {
          "iopub.status.busy": "2024-06-27T09:32:22.926576Z",
          "iopub.execute_input": "2024-06-27T09:32:22.927016Z",
          "iopub.status.idle": "2024-06-27T09:32:22.968758Z",
          "shell.execute_reply.started": "2024-06-27T09:32:22.926982Z",
          "shell.execute_reply": "2024-06-27T09:32:22.967437Z"
        },
        "trusted": true,
        "id": "HHD7rG7qQGFt",
        "outputId": "453f85bf-25e8-4409-a8d6-3d7dcbebf572"
      },
      "execution_count": null,
      "outputs": [
        {
          "name": "stdout",
          "text": "<class 'pandas.core.frame.DataFrame'>\nRangeIndex: 284807 entries, 0 to 284806\nData columns (total 31 columns):\n #   Column  Non-Null Count   Dtype  \n---  ------  --------------   -----  \n 0   Time    284807 non-null  float64\n 1   V1      284807 non-null  float64\n 2   V2      284807 non-null  float64\n 3   V3      284807 non-null  float64\n 4   V4      284807 non-null  float64\n 5   V5      284807 non-null  float64\n 6   V6      284807 non-null  float64\n 7   V7      284807 non-null  float64\n 8   V8      284807 non-null  float64\n 9   V9      284807 non-null  float64\n 10  V10     284807 non-null  float64\n 11  V11     284807 non-null  float64\n 12  V12     284807 non-null  float64\n 13  V13     284807 non-null  float64\n 14  V14     284807 non-null  float64\n 15  V15     284807 non-null  float64\n 16  V16     284807 non-null  float64\n 17  V17     284807 non-null  float64\n 18  V18     284807 non-null  float64\n 19  V19     284807 non-null  float64\n 20  V20     284807 non-null  float64\n 21  V21     284807 non-null  float64\n 22  V22     284807 non-null  float64\n 23  V23     284807 non-null  float64\n 24  V24     284807 non-null  float64\n 25  V25     284807 non-null  float64\n 26  V26     284807 non-null  float64\n 27  V27     284807 non-null  float64\n 28  V28     284807 non-null  float64\n 29  Amount  284807 non-null  float64\n 30  Class   284807 non-null  int64  \ndtypes: float64(30), int64(1)\nmemory usage: 67.4 MB\n",
          "output_type": "stream"
        }
      ]
    },
    {
      "cell_type": "code",
      "source": [
        "frames = [test,train]"
      ],
      "metadata": {
        "execution": {
          "iopub.status.busy": "2024-06-27T09:32:49.797905Z",
          "iopub.execute_input": "2024-06-27T09:32:49.798325Z",
          "iopub.status.idle": "2024-06-27T09:32:49.804919Z",
          "shell.execute_reply.started": "2024-06-27T09:32:49.798292Z",
          "shell.execute_reply": "2024-06-27T09:32:49.803493Z"
        },
        "trusted": true,
        "id": "iB9tYk5CQGFt"
      },
      "execution_count": null,
      "outputs": []
    },
    {
      "cell_type": "code",
      "source": [
        "d=pd.concat(frames)"
      ],
      "metadata": {
        "execution": {
          "iopub.status.busy": "2024-06-27T09:33:08.583686Z",
          "iopub.execute_input": "2024-06-27T09:33:08.584117Z",
          "iopub.status.idle": "2024-06-27T09:33:08.664356Z",
          "shell.execute_reply.started": "2024-06-27T09:33:08.584083Z",
          "shell.execute_reply": "2024-06-27T09:33:08.663125Z"
        },
        "trusted": true,
        "id": "n7CFhDbdQGFt"
      },
      "execution_count": null,
      "outputs": []
    },
    {
      "cell_type": "code",
      "source": [
        "d.shape"
      ],
      "metadata": {
        "execution": {
          "iopub.status.busy": "2024-06-27T09:33:22.626653Z",
          "iopub.execute_input": "2024-06-27T09:33:22.627035Z",
          "iopub.status.idle": "2024-06-27T09:33:22.636797Z",
          "shell.execute_reply.started": "2024-06-27T09:33:22.627007Z",
          "shell.execute_reply": "2024-06-27T09:33:22.634862Z"
        },
        "trusted": true,
        "id": "T74MmZyRQGFu",
        "outputId": "6ae18fdc-ae41-4d00-ed87-c49db44cbc8e"
      },
      "execution_count": null,
      "outputs": [
        {
          "execution_count": 12,
          "output_type": "execute_result",
          "data": {
            "text/plain": "(569614, 31)"
          },
          "metadata": {}
        }
      ]
    },
    {
      "cell_type": "code",
      "source": [
        "d.reset_index(inplace=True)"
      ],
      "metadata": {
        "trusted": true,
        "id": "i5fpogQ4QGFu"
      },
      "execution_count": null,
      "outputs": []
    },
    {
      "cell_type": "code",
      "source": [
        "d.info()"
      ],
      "metadata": {
        "execution": {
          "iopub.status.busy": "2024-06-27T09:34:49.425302Z",
          "iopub.execute_input": "2024-06-27T09:34:49.425735Z",
          "iopub.status.idle": "2024-06-27T09:34:49.468859Z",
          "shell.execute_reply.started": "2024-06-27T09:34:49.425698Z",
          "shell.execute_reply": "2024-06-27T09:34:49.467671Z"
        },
        "trusted": true,
        "id": "2fvmkU29QGFu",
        "outputId": "ccd39901-ce40-45e8-84cb-e019e1adc577"
      },
      "execution_count": null,
      "outputs": [
        {
          "name": "stdout",
          "text": "<class 'pandas.core.frame.DataFrame'>\nRangeIndex: 569614 entries, 0 to 569613\nData columns (total 33 columns):\n #   Column   Non-Null Count   Dtype  \n---  ------   --------------   -----  \n 0   level_0  569614 non-null  int64  \n 1   index    569614 non-null  int64  \n 2   Time     569614 non-null  float64\n 3   V1       569614 non-null  float64\n 4   V2       569614 non-null  float64\n 5   V3       569614 non-null  float64\n 6   V4       569614 non-null  float64\n 7   V5       569614 non-null  float64\n 8   V6       569614 non-null  float64\n 9   V7       569614 non-null  float64\n 10  V8       569614 non-null  float64\n 11  V9       569614 non-null  float64\n 12  V10      569614 non-null  float64\n 13  V11      569614 non-null  float64\n 14  V12      569614 non-null  float64\n 15  V13      569614 non-null  float64\n 16  V14      569614 non-null  float64\n 17  V15      569614 non-null  float64\n 18  V16      569614 non-null  float64\n 19  V17      569614 non-null  float64\n 20  V18      569614 non-null  float64\n 21  V19      569614 non-null  float64\n 22  V20      569614 non-null  float64\n 23  V21      569614 non-null  float64\n 24  V22      569614 non-null  float64\n 25  V23      569614 non-null  float64\n 26  V24      569614 non-null  float64\n 27  V25      569614 non-null  float64\n 28  V26      569614 non-null  float64\n 29  V27      569614 non-null  float64\n 30  V28      569614 non-null  float64\n 31  Amount   569614 non-null  float64\n 32  Class    569614 non-null  int64  \ndtypes: float64(30), int64(3)\nmemory usage: 143.4 MB\n",
          "output_type": "stream"
        }
      ]
    },
    {
      "cell_type": "code",
      "source": [
        "from sklearn.preprocessing import OrdinalEncoder\n",
        "cols = d.columns\n",
        "encoder = OrdinalEncoder()\n",
        "d[cols] = encoder.fit_transform(d[cols])"
      ],
      "metadata": {
        "execution": {
          "iopub.status.busy": "2024-06-27T09:44:32.159785Z",
          "iopub.execute_input": "2024-06-27T09:44:32.160308Z",
          "iopub.status.idle": "2024-06-27T09:44:51.532741Z",
          "shell.execute_reply.started": "2024-06-27T09:44:32.160259Z",
          "shell.execute_reply": "2024-06-27T09:44:51.531382Z"
        },
        "trusted": true,
        "id": "JKGPUdiLQGFv"
      },
      "execution_count": null,
      "outputs": []
    },
    {
      "cell_type": "code",
      "source": [
        "print(d.duplicated().sum())\n",
        "print(\"/n\")\n",
        "print(d.isnull().sum())"
      ],
      "metadata": {
        "execution": {
          "iopub.status.busy": "2024-06-27T09:46:02.134017Z",
          "iopub.execute_input": "2024-06-27T09:46:02.134584Z",
          "iopub.status.idle": "2024-06-27T09:46:03.947157Z",
          "shell.execute_reply.started": "2024-06-27T09:46:02.13454Z",
          "shell.execute_reply": "2024-06-27T09:46:03.945313Z"
        },
        "trusted": true,
        "id": "KiOYqcfNQGFv",
        "outputId": "aceacc41-1163-49cf-e9d6-8868f23f63ac"
      },
      "execution_count": null,
      "outputs": [
        {
          "name": "stdout",
          "text": "0\n/n\nlevel_0    0\nindex      0\nTime       0\nV1         0\nV2         0\nV3         0\nV4         0\nV5         0\nV6         0\nV7         0\nV8         0\nV9         0\nV10        0\nV11        0\nV12        0\nV13        0\nV14        0\nV15        0\nV16        0\nV17        0\nV18        0\nV19        0\nV20        0\nV21        0\nV22        0\nV23        0\nV24        0\nV25        0\nV26        0\nV27        0\nV28        0\nAmount     0\nClass      0\ndtype: int64\n",
          "output_type": "stream"
        }
      ]
    },
    {
      "cell_type": "code",
      "source": [
        "# Display the columns of the DataFrame\n",
        "print(d.columns)\n",
        "\n",
        "# Check if 'is_fraud' is in the DataFrame\n",
        "if 'is_fraud' in d.columns:\n",
        "    print(d['is_fraud'].value_counts())\n",
        "else:\n",
        "    print(\"'is_fraud' column is not present in the DataFrame.\")\n"
      ],
      "metadata": {
        "execution": {
          "iopub.status.busy": "2024-06-27T09:48:33.366303Z",
          "iopub.execute_input": "2024-06-27T09:48:33.366725Z",
          "iopub.status.idle": "2024-06-27T09:48:33.375159Z",
          "shell.execute_reply.started": "2024-06-27T09:48:33.366691Z",
          "shell.execute_reply": "2024-06-27T09:48:33.37387Z"
        },
        "trusted": true,
        "id": "t5gRP7jWQGFv",
        "outputId": "6a031791-2595-488e-c195-8202e9743aac"
      },
      "execution_count": null,
      "outputs": [
        {
          "name": "stdout",
          "text": "Index(['level_0', 'index', 'Time', 'V1', 'V2', 'V3', 'V4', 'V5', 'V6', 'V7',\n       'V8', 'V9', 'V10', 'V11', 'V12', 'V13', 'V14', 'V15', 'V16', 'V17',\n       'V18', 'V19', 'V20', 'V21', 'V22', 'V23', 'V24', 'V25', 'V26', 'V27',\n       'V28', 'Amount', 'Class'],\n      dtype='object')\n'is_fraud' column is not present in the DataFrame.\n",
          "output_type": "stream"
        }
      ]
    },
    {
      "cell_type": "code",
      "source": [
        "Not_fraud =d[d.Class==0]\n",
        "fraud = d[d.Class==1]\n",
        "Not_fraud.head()\n",
        "Not_fraud_resample= Not_fraud.sample(492)"
      ],
      "metadata": {
        "execution": {
          "iopub.status.busy": "2024-06-27T09:51:44.873616Z",
          "iopub.execute_input": "2024-06-27T09:51:44.874068Z",
          "iopub.status.idle": "2024-06-27T09:51:45.003847Z",
          "shell.execute_reply.started": "2024-06-27T09:51:44.874033Z",
          "shell.execute_reply": "2024-06-27T09:51:45.001979Z"
        },
        "trusted": true,
        "id": "seC8lhDHQGFv"
      },
      "execution_count": null,
      "outputs": []
    },
    {
      "cell_type": "code",
      "source": [
        "new_df=pd.concat([Not_fraud_resample,fraud],axis=0)\n",
        "new_df"
      ],
      "metadata": {
        "execution": {
          "iopub.status.busy": "2024-06-27T09:52:02.908759Z",
          "iopub.execute_input": "2024-06-27T09:52:02.909175Z",
          "iopub.status.idle": "2024-06-27T09:52:02.971915Z",
          "shell.execute_reply.started": "2024-06-27T09:52:02.90914Z",
          "shell.execute_reply": "2024-06-27T09:52:02.970696Z"
        },
        "trusted": true,
        "id": "jl4jyRMXQGFv",
        "outputId": "1f7f3d36-ca37-42b4-ff74-0c358fb61eff"
      },
      "execution_count": null,
      "outputs": [
        {
          "execution_count": 39,
          "output_type": "execute_result",
          "data": {
            "text/plain": "         level_0     index      Time        V1        V2        V3        V4  \\\n447185  447185.0  162378.0   74390.0  260013.0  110336.0   55449.0  179316.0   \n518109  518109.0  233302.0  102938.0  265910.0   34625.0   81193.0   60532.0   \n486398  486398.0  201591.0   90745.0  144739.0  229848.0  136866.0  265083.0   \n530030  530030.0  245223.0  107528.0  116629.0  126570.0  166603.0   59164.0   \n265597  265597.0  265597.0  115740.0   76439.0  245852.0   64470.0   51722.0   \n...          ...       ...       ...       ...       ...       ...       ...   \n564670  564670.0  279863.0  121879.0   27277.0  234872.0    1939.0  254185.0   \n564950  564950.0  280143.0  122034.0  213406.0  245738.0    1524.0  244858.0   \n564956  564956.0  280149.0  122037.0   91114.0  234926.0   16295.0  184357.0   \n565951  565951.0  281144.0  122537.0   12303.0  187299.0    1237.0  255107.0   \n566481  566481.0  281674.0  122825.0  246192.0  148275.0   10472.0  178476.0   \n\n              V5        V6        V7  ...       V21       V22       V23  \\\n447185  115553.0   24068.0  143208.0  ...   40300.0   30458.0  250404.0   \n518109   48919.0  181649.0   19364.0  ...  253553.0  268312.0  129739.0   \n486398  200186.0  245617.0   91576.0  ...  249838.0  253194.0   74791.0   \n530030  133787.0  162345.0  257360.0  ...  159427.0  108867.0  268389.0   \n265597  241658.0    6905.0  270505.0  ...  178868.0  253629.0   47509.0   \n...          ...       ...       ...  ...       ...       ...       ...   \n564670   17847.0    3419.0   38851.0  ...  267288.0   95138.0  265954.0   \n564950  192206.0   17667.0   14265.0  ...  246672.0  139954.0   76291.0   \n564956   37695.0  170562.0    4708.0  ...  266926.0  240217.0  220165.0   \n565951   57302.0    1218.0    4819.0  ...  263255.0  101001.0   15072.0   \n566481  240033.0  159734.0  164776.0  ...   89196.0   97966.0  108223.0   \n\n             V24       V25       V26       V27       V28   Amount  Class  \n447185  106630.0   65335.0  200175.0   62193.0   56764.0     98.0    0.0  \n518109   34056.0  124806.0  154257.0  148991.0   58463.0   3230.0    0.0  \n486398    5019.0   40025.0  201710.0   67019.0   43829.0    786.0    0.0  \n530030  252062.0    2564.0  125378.0  221357.0  265562.0  17397.0    0.0  \n265597  146950.0  109127.0  162976.0  268152.0  269542.0   4878.0    0.0  \n...          ...       ...       ...       ...       ...      ...    ...  \n564670   79378.0  240244.0  255155.0  251344.0  237164.0  23787.0    1.0  \n564950  103705.0  238178.0  252121.0  261597.0  249014.0     75.0    1.0  \n564956  135872.0   18542.0  230510.0  261264.0  250716.0   7649.0    1.0  \n565951   90235.0   68004.0  241271.0  272556.0   18022.0  18963.0    1.0  \n566481   55082.0  199730.0   79153.0  138201.0  106803.0   4243.0    1.0  \n\n[1476 rows x 33 columns]",
            "text/html": "<div>\n<style scoped>\n    .dataframe tbody tr th:only-of-type {\n        vertical-align: middle;\n    }\n\n    .dataframe tbody tr th {\n        vertical-align: top;\n    }\n\n    .dataframe thead th {\n        text-align: right;\n    }\n</style>\n<table border=\"1\" class=\"dataframe\">\n  <thead>\n    <tr style=\"text-align: right;\">\n      <th></th>\n      <th>level_0</th>\n      <th>index</th>\n      <th>Time</th>\n      <th>V1</th>\n      <th>V2</th>\n      <th>V3</th>\n      <th>V4</th>\n      <th>V5</th>\n      <th>V6</th>\n      <th>V7</th>\n      <th>...</th>\n      <th>V21</th>\n      <th>V22</th>\n      <th>V23</th>\n      <th>V24</th>\n      <th>V25</th>\n      <th>V26</th>\n      <th>V27</th>\n      <th>V28</th>\n      <th>Amount</th>\n      <th>Class</th>\n    </tr>\n  </thead>\n  <tbody>\n    <tr>\n      <th>447185</th>\n      <td>447185.0</td>\n      <td>162378.0</td>\n      <td>74390.0</td>\n      <td>260013.0</td>\n      <td>110336.0</td>\n      <td>55449.0</td>\n      <td>179316.0</td>\n      <td>115553.0</td>\n      <td>24068.0</td>\n      <td>143208.0</td>\n      <td>...</td>\n      <td>40300.0</td>\n      <td>30458.0</td>\n      <td>250404.0</td>\n      <td>106630.0</td>\n      <td>65335.0</td>\n      <td>200175.0</td>\n      <td>62193.0</td>\n      <td>56764.0</td>\n      <td>98.0</td>\n      <td>0.0</td>\n    </tr>\n    <tr>\n      <th>518109</th>\n      <td>518109.0</td>\n      <td>233302.0</td>\n      <td>102938.0</td>\n      <td>265910.0</td>\n      <td>34625.0</td>\n      <td>81193.0</td>\n      <td>60532.0</td>\n      <td>48919.0</td>\n      <td>181649.0</td>\n      <td>19364.0</td>\n      <td>...</td>\n      <td>253553.0</td>\n      <td>268312.0</td>\n      <td>129739.0</td>\n      <td>34056.0</td>\n      <td>124806.0</td>\n      <td>154257.0</td>\n      <td>148991.0</td>\n      <td>58463.0</td>\n      <td>3230.0</td>\n      <td>0.0</td>\n    </tr>\n    <tr>\n      <th>486398</th>\n      <td>486398.0</td>\n      <td>201591.0</td>\n      <td>90745.0</td>\n      <td>144739.0</td>\n      <td>229848.0</td>\n      <td>136866.0</td>\n      <td>265083.0</td>\n      <td>200186.0</td>\n      <td>245617.0</td>\n      <td>91576.0</td>\n      <td>...</td>\n      <td>249838.0</td>\n      <td>253194.0</td>\n      <td>74791.0</td>\n      <td>5019.0</td>\n      <td>40025.0</td>\n      <td>201710.0</td>\n      <td>67019.0</td>\n      <td>43829.0</td>\n      <td>786.0</td>\n      <td>0.0</td>\n    </tr>\n    <tr>\n      <th>530030</th>\n      <td>530030.0</td>\n      <td>245223.0</td>\n      <td>107528.0</td>\n      <td>116629.0</td>\n      <td>126570.0</td>\n      <td>166603.0</td>\n      <td>59164.0</td>\n      <td>133787.0</td>\n      <td>162345.0</td>\n      <td>257360.0</td>\n      <td>...</td>\n      <td>159427.0</td>\n      <td>108867.0</td>\n      <td>268389.0</td>\n      <td>252062.0</td>\n      <td>2564.0</td>\n      <td>125378.0</td>\n      <td>221357.0</td>\n      <td>265562.0</td>\n      <td>17397.0</td>\n      <td>0.0</td>\n    </tr>\n    <tr>\n      <th>265597</th>\n      <td>265597.0</td>\n      <td>265597.0</td>\n      <td>115740.0</td>\n      <td>76439.0</td>\n      <td>245852.0</td>\n      <td>64470.0</td>\n      <td>51722.0</td>\n      <td>241658.0</td>\n      <td>6905.0</td>\n      <td>270505.0</td>\n      <td>...</td>\n      <td>178868.0</td>\n      <td>253629.0</td>\n      <td>47509.0</td>\n      <td>146950.0</td>\n      <td>109127.0</td>\n      <td>162976.0</td>\n      <td>268152.0</td>\n      <td>269542.0</td>\n      <td>4878.0</td>\n      <td>0.0</td>\n    </tr>\n    <tr>\n      <th>...</th>\n      <td>...</td>\n      <td>...</td>\n      <td>...</td>\n      <td>...</td>\n      <td>...</td>\n      <td>...</td>\n      <td>...</td>\n      <td>...</td>\n      <td>...</td>\n      <td>...</td>\n      <td>...</td>\n      <td>...</td>\n      <td>...</td>\n      <td>...</td>\n      <td>...</td>\n      <td>...</td>\n      <td>...</td>\n      <td>...</td>\n      <td>...</td>\n      <td>...</td>\n      <td>...</td>\n    </tr>\n    <tr>\n      <th>564670</th>\n      <td>564670.0</td>\n      <td>279863.0</td>\n      <td>121879.0</td>\n      <td>27277.0</td>\n      <td>234872.0</td>\n      <td>1939.0</td>\n      <td>254185.0</td>\n      <td>17847.0</td>\n      <td>3419.0</td>\n      <td>38851.0</td>\n      <td>...</td>\n      <td>267288.0</td>\n      <td>95138.0</td>\n      <td>265954.0</td>\n      <td>79378.0</td>\n      <td>240244.0</td>\n      <td>255155.0</td>\n      <td>251344.0</td>\n      <td>237164.0</td>\n      <td>23787.0</td>\n      <td>1.0</td>\n    </tr>\n    <tr>\n      <th>564950</th>\n      <td>564950.0</td>\n      <td>280143.0</td>\n      <td>122034.0</td>\n      <td>213406.0</td>\n      <td>245738.0</td>\n      <td>1524.0</td>\n      <td>244858.0</td>\n      <td>192206.0</td>\n      <td>17667.0</td>\n      <td>14265.0</td>\n      <td>...</td>\n      <td>246672.0</td>\n      <td>139954.0</td>\n      <td>76291.0</td>\n      <td>103705.0</td>\n      <td>238178.0</td>\n      <td>252121.0</td>\n      <td>261597.0</td>\n      <td>249014.0</td>\n      <td>75.0</td>\n      <td>1.0</td>\n    </tr>\n    <tr>\n      <th>564956</th>\n      <td>564956.0</td>\n      <td>280149.0</td>\n      <td>122037.0</td>\n      <td>91114.0</td>\n      <td>234926.0</td>\n      <td>16295.0</td>\n      <td>184357.0</td>\n      <td>37695.0</td>\n      <td>170562.0</td>\n      <td>4708.0</td>\n      <td>...</td>\n      <td>266926.0</td>\n      <td>240217.0</td>\n      <td>220165.0</td>\n      <td>135872.0</td>\n      <td>18542.0</td>\n      <td>230510.0</td>\n      <td>261264.0</td>\n      <td>250716.0</td>\n      <td>7649.0</td>\n      <td>1.0</td>\n    </tr>\n    <tr>\n      <th>565951</th>\n      <td>565951.0</td>\n      <td>281144.0</td>\n      <td>122537.0</td>\n      <td>12303.0</td>\n      <td>187299.0</td>\n      <td>1237.0</td>\n      <td>255107.0</td>\n      <td>57302.0</td>\n      <td>1218.0</td>\n      <td>4819.0</td>\n      <td>...</td>\n      <td>263255.0</td>\n      <td>101001.0</td>\n      <td>15072.0</td>\n      <td>90235.0</td>\n      <td>68004.0</td>\n      <td>241271.0</td>\n      <td>272556.0</td>\n      <td>18022.0</td>\n      <td>18963.0</td>\n      <td>1.0</td>\n    </tr>\n    <tr>\n      <th>566481</th>\n      <td>566481.0</td>\n      <td>281674.0</td>\n      <td>122825.0</td>\n      <td>246192.0</td>\n      <td>148275.0</td>\n      <td>10472.0</td>\n      <td>178476.0</td>\n      <td>240033.0</td>\n      <td>159734.0</td>\n      <td>164776.0</td>\n      <td>...</td>\n      <td>89196.0</td>\n      <td>97966.0</td>\n      <td>108223.0</td>\n      <td>55082.0</td>\n      <td>199730.0</td>\n      <td>79153.0</td>\n      <td>138201.0</td>\n      <td>106803.0</td>\n      <td>4243.0</td>\n      <td>1.0</td>\n    </tr>\n  </tbody>\n</table>\n<p>1476 rows × 33 columns</p>\n</div>"
          },
          "metadata": {}
        }
      ]
    },
    {
      "cell_type": "code",
      "source": [
        "x=new_df.drop(columns='Class',axis=1)\n",
        "y=new_df['Class']\n",
        "x"
      ],
      "metadata": {
        "execution": {
          "iopub.status.busy": "2024-06-27T09:52:20.482947Z",
          "iopub.execute_input": "2024-06-27T09:52:20.483506Z",
          "iopub.status.idle": "2024-06-27T09:52:20.555162Z",
          "shell.execute_reply.started": "2024-06-27T09:52:20.483455Z",
          "shell.execute_reply": "2024-06-27T09:52:20.553799Z"
        },
        "trusted": true,
        "id": "qtOkbf5OQGFw",
        "outputId": "943777da-6527-4107-a533-bda838dfc1fc"
      },
      "execution_count": null,
      "outputs": [
        {
          "execution_count": 40,
          "output_type": "execute_result",
          "data": {
            "text/plain": "         level_0     index      Time        V1        V2        V3        V4  \\\n447185  447185.0  162378.0   74390.0  260013.0  110336.0   55449.0  179316.0   \n518109  518109.0  233302.0  102938.0  265910.0   34625.0   81193.0   60532.0   \n486398  486398.0  201591.0   90745.0  144739.0  229848.0  136866.0  265083.0   \n530030  530030.0  245223.0  107528.0  116629.0  126570.0  166603.0   59164.0   \n265597  265597.0  265597.0  115740.0   76439.0  245852.0   64470.0   51722.0   \n...          ...       ...       ...       ...       ...       ...       ...   \n564670  564670.0  279863.0  121879.0   27277.0  234872.0    1939.0  254185.0   \n564950  564950.0  280143.0  122034.0  213406.0  245738.0    1524.0  244858.0   \n564956  564956.0  280149.0  122037.0   91114.0  234926.0   16295.0  184357.0   \n565951  565951.0  281144.0  122537.0   12303.0  187299.0    1237.0  255107.0   \n566481  566481.0  281674.0  122825.0  246192.0  148275.0   10472.0  178476.0   \n\n              V5        V6        V7  ...       V20       V21       V22  \\\n447185  115553.0   24068.0  143208.0  ...   38569.0   40300.0   30458.0   \n518109   48919.0  181649.0   19364.0  ...  171306.0  253553.0  268312.0   \n486398  200186.0  245617.0   91576.0  ...   28985.0  249838.0  253194.0   \n530030  133787.0  162345.0  257360.0  ...  239299.0  159427.0  108867.0   \n265597  241658.0    6905.0  270505.0  ...  243679.0  178868.0  253629.0   \n...          ...       ...       ...  ...       ...       ...       ...   \n564670   17847.0    3419.0   38851.0  ...  267296.0  267288.0   95138.0   \n564950  192206.0   17667.0   14265.0  ...  224559.0  246672.0  139954.0   \n564956   37695.0  170562.0    4708.0  ...  228022.0  266926.0  240217.0   \n565951   57302.0    1218.0    4819.0  ...  235534.0  263255.0  101001.0   \n566481  240033.0  159734.0  164776.0  ...  154947.0   89196.0   97966.0   \n\n             V23       V24       V25       V26       V27       V28   Amount  \n447185  250404.0  106630.0   65335.0  200175.0   62193.0   56764.0     98.0  \n518109  129739.0   34056.0  124806.0  154257.0  148991.0   58463.0   3230.0  \n486398   74791.0    5019.0   40025.0  201710.0   67019.0   43829.0    786.0  \n530030  268389.0  252062.0    2564.0  125378.0  221357.0  265562.0  17397.0  \n265597   47509.0  146950.0  109127.0  162976.0  268152.0  269542.0   4878.0  \n...          ...       ...       ...       ...       ...       ...      ...  \n564670  265954.0   79378.0  240244.0  255155.0  251344.0  237164.0  23787.0  \n564950   76291.0  103705.0  238178.0  252121.0  261597.0  249014.0     75.0  \n564956  220165.0  135872.0   18542.0  230510.0  261264.0  250716.0   7649.0  \n565951   15072.0   90235.0   68004.0  241271.0  272556.0   18022.0  18963.0  \n566481  108223.0   55082.0  199730.0   79153.0  138201.0  106803.0   4243.0  \n\n[1476 rows x 32 columns]",
            "text/html": "<div>\n<style scoped>\n    .dataframe tbody tr th:only-of-type {\n        vertical-align: middle;\n    }\n\n    .dataframe tbody tr th {\n        vertical-align: top;\n    }\n\n    .dataframe thead th {\n        text-align: right;\n    }\n</style>\n<table border=\"1\" class=\"dataframe\">\n  <thead>\n    <tr style=\"text-align: right;\">\n      <th></th>\n      <th>level_0</th>\n      <th>index</th>\n      <th>Time</th>\n      <th>V1</th>\n      <th>V2</th>\n      <th>V3</th>\n      <th>V4</th>\n      <th>V5</th>\n      <th>V6</th>\n      <th>V7</th>\n      <th>...</th>\n      <th>V20</th>\n      <th>V21</th>\n      <th>V22</th>\n      <th>V23</th>\n      <th>V24</th>\n      <th>V25</th>\n      <th>V26</th>\n      <th>V27</th>\n      <th>V28</th>\n      <th>Amount</th>\n    </tr>\n  </thead>\n  <tbody>\n    <tr>\n      <th>447185</th>\n      <td>447185.0</td>\n      <td>162378.0</td>\n      <td>74390.0</td>\n      <td>260013.0</td>\n      <td>110336.0</td>\n      <td>55449.0</td>\n      <td>179316.0</td>\n      <td>115553.0</td>\n      <td>24068.0</td>\n      <td>143208.0</td>\n      <td>...</td>\n      <td>38569.0</td>\n      <td>40300.0</td>\n      <td>30458.0</td>\n      <td>250404.0</td>\n      <td>106630.0</td>\n      <td>65335.0</td>\n      <td>200175.0</td>\n      <td>62193.0</td>\n      <td>56764.0</td>\n      <td>98.0</td>\n    </tr>\n    <tr>\n      <th>518109</th>\n      <td>518109.0</td>\n      <td>233302.0</td>\n      <td>102938.0</td>\n      <td>265910.0</td>\n      <td>34625.0</td>\n      <td>81193.0</td>\n      <td>60532.0</td>\n      <td>48919.0</td>\n      <td>181649.0</td>\n      <td>19364.0</td>\n      <td>...</td>\n      <td>171306.0</td>\n      <td>253553.0</td>\n      <td>268312.0</td>\n      <td>129739.0</td>\n      <td>34056.0</td>\n      <td>124806.0</td>\n      <td>154257.0</td>\n      <td>148991.0</td>\n      <td>58463.0</td>\n      <td>3230.0</td>\n    </tr>\n    <tr>\n      <th>486398</th>\n      <td>486398.0</td>\n      <td>201591.0</td>\n      <td>90745.0</td>\n      <td>144739.0</td>\n      <td>229848.0</td>\n      <td>136866.0</td>\n      <td>265083.0</td>\n      <td>200186.0</td>\n      <td>245617.0</td>\n      <td>91576.0</td>\n      <td>...</td>\n      <td>28985.0</td>\n      <td>249838.0</td>\n      <td>253194.0</td>\n      <td>74791.0</td>\n      <td>5019.0</td>\n      <td>40025.0</td>\n      <td>201710.0</td>\n      <td>67019.0</td>\n      <td>43829.0</td>\n      <td>786.0</td>\n    </tr>\n    <tr>\n      <th>530030</th>\n      <td>530030.0</td>\n      <td>245223.0</td>\n      <td>107528.0</td>\n      <td>116629.0</td>\n      <td>126570.0</td>\n      <td>166603.0</td>\n      <td>59164.0</td>\n      <td>133787.0</td>\n      <td>162345.0</td>\n      <td>257360.0</td>\n      <td>...</td>\n      <td>239299.0</td>\n      <td>159427.0</td>\n      <td>108867.0</td>\n      <td>268389.0</td>\n      <td>252062.0</td>\n      <td>2564.0</td>\n      <td>125378.0</td>\n      <td>221357.0</td>\n      <td>265562.0</td>\n      <td>17397.0</td>\n    </tr>\n    <tr>\n      <th>265597</th>\n      <td>265597.0</td>\n      <td>265597.0</td>\n      <td>115740.0</td>\n      <td>76439.0</td>\n      <td>245852.0</td>\n      <td>64470.0</td>\n      <td>51722.0</td>\n      <td>241658.0</td>\n      <td>6905.0</td>\n      <td>270505.0</td>\n      <td>...</td>\n      <td>243679.0</td>\n      <td>178868.0</td>\n      <td>253629.0</td>\n      <td>47509.0</td>\n      <td>146950.0</td>\n      <td>109127.0</td>\n      <td>162976.0</td>\n      <td>268152.0</td>\n      <td>269542.0</td>\n      <td>4878.0</td>\n    </tr>\n    <tr>\n      <th>...</th>\n      <td>...</td>\n      <td>...</td>\n      <td>...</td>\n      <td>...</td>\n      <td>...</td>\n      <td>...</td>\n      <td>...</td>\n      <td>...</td>\n      <td>...</td>\n      <td>...</td>\n      <td>...</td>\n      <td>...</td>\n      <td>...</td>\n      <td>...</td>\n      <td>...</td>\n      <td>...</td>\n      <td>...</td>\n      <td>...</td>\n      <td>...</td>\n      <td>...</td>\n      <td>...</td>\n    </tr>\n    <tr>\n      <th>564670</th>\n      <td>564670.0</td>\n      <td>279863.0</td>\n      <td>121879.0</td>\n      <td>27277.0</td>\n      <td>234872.0</td>\n      <td>1939.0</td>\n      <td>254185.0</td>\n      <td>17847.0</td>\n      <td>3419.0</td>\n      <td>38851.0</td>\n      <td>...</td>\n      <td>267296.0</td>\n      <td>267288.0</td>\n      <td>95138.0</td>\n      <td>265954.0</td>\n      <td>79378.0</td>\n      <td>240244.0</td>\n      <td>255155.0</td>\n      <td>251344.0</td>\n      <td>237164.0</td>\n      <td>23787.0</td>\n    </tr>\n    <tr>\n      <th>564950</th>\n      <td>564950.0</td>\n      <td>280143.0</td>\n      <td>122034.0</td>\n      <td>213406.0</td>\n      <td>245738.0</td>\n      <td>1524.0</td>\n      <td>244858.0</td>\n      <td>192206.0</td>\n      <td>17667.0</td>\n      <td>14265.0</td>\n      <td>...</td>\n      <td>224559.0</td>\n      <td>246672.0</td>\n      <td>139954.0</td>\n      <td>76291.0</td>\n      <td>103705.0</td>\n      <td>238178.0</td>\n      <td>252121.0</td>\n      <td>261597.0</td>\n      <td>249014.0</td>\n      <td>75.0</td>\n    </tr>\n    <tr>\n      <th>564956</th>\n      <td>564956.0</td>\n      <td>280149.0</td>\n      <td>122037.0</td>\n      <td>91114.0</td>\n      <td>234926.0</td>\n      <td>16295.0</td>\n      <td>184357.0</td>\n      <td>37695.0</td>\n      <td>170562.0</td>\n      <td>4708.0</td>\n      <td>...</td>\n      <td>228022.0</td>\n      <td>266926.0</td>\n      <td>240217.0</td>\n      <td>220165.0</td>\n      <td>135872.0</td>\n      <td>18542.0</td>\n      <td>230510.0</td>\n      <td>261264.0</td>\n      <td>250716.0</td>\n      <td>7649.0</td>\n    </tr>\n    <tr>\n      <th>565951</th>\n      <td>565951.0</td>\n      <td>281144.0</td>\n      <td>122537.0</td>\n      <td>12303.0</td>\n      <td>187299.0</td>\n      <td>1237.0</td>\n      <td>255107.0</td>\n      <td>57302.0</td>\n      <td>1218.0</td>\n      <td>4819.0</td>\n      <td>...</td>\n      <td>235534.0</td>\n      <td>263255.0</td>\n      <td>101001.0</td>\n      <td>15072.0</td>\n      <td>90235.0</td>\n      <td>68004.0</td>\n      <td>241271.0</td>\n      <td>272556.0</td>\n      <td>18022.0</td>\n      <td>18963.0</td>\n    </tr>\n    <tr>\n      <th>566481</th>\n      <td>566481.0</td>\n      <td>281674.0</td>\n      <td>122825.0</td>\n      <td>246192.0</td>\n      <td>148275.0</td>\n      <td>10472.0</td>\n      <td>178476.0</td>\n      <td>240033.0</td>\n      <td>159734.0</td>\n      <td>164776.0</td>\n      <td>...</td>\n      <td>154947.0</td>\n      <td>89196.0</td>\n      <td>97966.0</td>\n      <td>108223.0</td>\n      <td>55082.0</td>\n      <td>199730.0</td>\n      <td>79153.0</td>\n      <td>138201.0</td>\n      <td>106803.0</td>\n      <td>4243.0</td>\n    </tr>\n  </tbody>\n</table>\n<p>1476 rows × 32 columns</p>\n</div>"
          },
          "metadata": {}
        }
      ]
    },
    {
      "cell_type": "code",
      "source": [
        "from sklearn.model_selection import train_test_split\n",
        "x_train,x_test,y_train,y_test=train_test_split(x,y,test_size=0.3,random_state=15)"
      ],
      "metadata": {
        "execution": {
          "iopub.status.busy": "2024-06-27T09:55:18.165961Z",
          "iopub.execute_input": "2024-06-27T09:55:18.166358Z",
          "iopub.status.idle": "2024-06-27T09:55:18.179358Z",
          "shell.execute_reply.started": "2024-06-27T09:55:18.166327Z",
          "shell.execute_reply": "2024-06-27T09:55:18.177699Z"
        },
        "trusted": true,
        "id": "0_7rLfLLQGFw"
      },
      "execution_count": null,
      "outputs": []
    },
    {
      "cell_type": "code",
      "source": [
        "x_train.shape"
      ],
      "metadata": {
        "execution": {
          "iopub.status.busy": "2024-06-27T09:56:04.900354Z",
          "iopub.execute_input": "2024-06-27T09:56:04.900833Z",
          "iopub.status.idle": "2024-06-27T09:56:04.908925Z",
          "shell.execute_reply.started": "2024-06-27T09:56:04.900799Z",
          "shell.execute_reply": "2024-06-27T09:56:04.907512Z"
        },
        "trusted": true,
        "id": "fmmL9vVJQGFw",
        "outputId": "b725aa66-51ba-4e59-ba5e-a45d88c2ac63"
      },
      "execution_count": null,
      "outputs": [
        {
          "execution_count": 52,
          "output_type": "execute_result",
          "data": {
            "text/plain": "(1033, 32)"
          },
          "metadata": {}
        }
      ]
    },
    {
      "cell_type": "code",
      "source": [
        "from sklearn.linear_model import LogisticRegression\n",
        "mdl=LogisticRegression()\n",
        "mdl.fit(x_train,y_train)"
      ],
      "metadata": {
        "execution": {
          "iopub.status.busy": "2024-06-27T09:58:14.369586Z",
          "iopub.execute_input": "2024-06-27T09:58:14.37004Z",
          "iopub.status.idle": "2024-06-27T09:58:14.474746Z",
          "shell.execute_reply.started": "2024-06-27T09:58:14.370006Z",
          "shell.execute_reply": "2024-06-27T09:58:14.473097Z"
        },
        "trusted": true,
        "id": "p7zslcNFQGFw",
        "outputId": "6e2fbc8b-724f-4eb1-d48c-2d783807b0b5"
      },
      "execution_count": null,
      "outputs": [
        {
          "name": "stderr",
          "text": "/opt/conda/lib/python3.10/site-packages/sklearn/linear_model/_logistic.py:458: ConvergenceWarning: lbfgs failed to converge (status=1):\nSTOP: TOTAL NO. of ITERATIONS REACHED LIMIT.\n\nIncrease the number of iterations (max_iter) or scale the data as shown in:\n    https://scikit-learn.org/stable/modules/preprocessing.html\nPlease also refer to the documentation for alternative solver options:\n    https://scikit-learn.org/stable/modules/linear_model.html#logistic-regression\n  n_iter_i = _check_optimize_result(\n",
          "output_type": "stream"
        },
        {
          "execution_count": 57,
          "output_type": "execute_result",
          "data": {
            "text/plain": "LogisticRegression()",
            "text/html": "<style>#sk-container-id-1 {color: black;background-color: white;}#sk-container-id-1 pre{padding: 0;}#sk-container-id-1 div.sk-toggleable {background-color: white;}#sk-container-id-1 label.sk-toggleable__label {cursor: pointer;display: block;width: 100%;margin-bottom: 0;padding: 0.3em;box-sizing: border-box;text-align: center;}#sk-container-id-1 label.sk-toggleable__label-arrow:before {content: \"▸\";float: left;margin-right: 0.25em;color: #696969;}#sk-container-id-1 label.sk-toggleable__label-arrow:hover:before {color: black;}#sk-container-id-1 div.sk-estimator:hover label.sk-toggleable__label-arrow:before {color: black;}#sk-container-id-1 div.sk-toggleable__content {max-height: 0;max-width: 0;overflow: hidden;text-align: left;background-color: #f0f8ff;}#sk-container-id-1 div.sk-toggleable__content pre {margin: 0.2em;color: black;border-radius: 0.25em;background-color: #f0f8ff;}#sk-container-id-1 input.sk-toggleable__control:checked~div.sk-toggleable__content {max-height: 200px;max-width: 100%;overflow: auto;}#sk-container-id-1 input.sk-toggleable__control:checked~label.sk-toggleable__label-arrow:before {content: \"▾\";}#sk-container-id-1 div.sk-estimator input.sk-toggleable__control:checked~label.sk-toggleable__label {background-color: #d4ebff;}#sk-container-id-1 div.sk-label input.sk-toggleable__control:checked~label.sk-toggleable__label {background-color: #d4ebff;}#sk-container-id-1 input.sk-hidden--visually {border: 0;clip: rect(1px 1px 1px 1px);clip: rect(1px, 1px, 1px, 1px);height: 1px;margin: -1px;overflow: hidden;padding: 0;position: absolute;width: 1px;}#sk-container-id-1 div.sk-estimator {font-family: monospace;background-color: #f0f8ff;border: 1px dotted black;border-radius: 0.25em;box-sizing: border-box;margin-bottom: 0.5em;}#sk-container-id-1 div.sk-estimator:hover {background-color: #d4ebff;}#sk-container-id-1 div.sk-parallel-item::after {content: \"\";width: 100%;border-bottom: 1px solid gray;flex-grow: 1;}#sk-container-id-1 div.sk-label:hover label.sk-toggleable__label {background-color: #d4ebff;}#sk-container-id-1 div.sk-serial::before {content: \"\";position: absolute;border-left: 1px solid gray;box-sizing: border-box;top: 0;bottom: 0;left: 50%;z-index: 0;}#sk-container-id-1 div.sk-serial {display: flex;flex-direction: column;align-items: center;background-color: white;padding-right: 0.2em;padding-left: 0.2em;position: relative;}#sk-container-id-1 div.sk-item {position: relative;z-index: 1;}#sk-container-id-1 div.sk-parallel {display: flex;align-items: stretch;justify-content: center;background-color: white;position: relative;}#sk-container-id-1 div.sk-item::before, #sk-container-id-1 div.sk-parallel-item::before {content: \"\";position: absolute;border-left: 1px solid gray;box-sizing: border-box;top: 0;bottom: 0;left: 50%;z-index: -1;}#sk-container-id-1 div.sk-parallel-item {display: flex;flex-direction: column;z-index: 1;position: relative;background-color: white;}#sk-container-id-1 div.sk-parallel-item:first-child::after {align-self: flex-end;width: 50%;}#sk-container-id-1 div.sk-parallel-item:last-child::after {align-self: flex-start;width: 50%;}#sk-container-id-1 div.sk-parallel-item:only-child::after {width: 0;}#sk-container-id-1 div.sk-dashed-wrapped {border: 1px dashed gray;margin: 0 0.4em 0.5em 0.4em;box-sizing: border-box;padding-bottom: 0.4em;background-color: white;}#sk-container-id-1 div.sk-label label {font-family: monospace;font-weight: bold;display: inline-block;line-height: 1.2em;}#sk-container-id-1 div.sk-label-container {text-align: center;}#sk-container-id-1 div.sk-container {/* jupyter's `normalize.less` sets `[hidden] { display: none; }` but bootstrap.min.css set `[hidden] { display: none !important; }` so we also need the `!important` here to be able to override the default hidden behavior on the sphinx rendered scikit-learn.org. See: https://github.com/scikit-learn/scikit-learn/issues/21755 */display: inline-block !important;position: relative;}#sk-container-id-1 div.sk-text-repr-fallback {display: none;}</style><div id=\"sk-container-id-1\" class=\"sk-top-container\"><div class=\"sk-text-repr-fallback\"><pre>LogisticRegression()</pre><b>In a Jupyter environment, please rerun this cell to show the HTML representation or trust the notebook. <br />On GitHub, the HTML representation is unable to render, please try loading this page with nbviewer.org.</b></div><div class=\"sk-container\" hidden><div class=\"sk-item\"><div class=\"sk-estimator sk-toggleable\"><input class=\"sk-toggleable__control sk-hidden--visually\" id=\"sk-estimator-id-1\" type=\"checkbox\" checked><label for=\"sk-estimator-id-1\" class=\"sk-toggleable__label sk-toggleable__label-arrow\">LogisticRegression</label><div class=\"sk-toggleable__content\"><pre>LogisticRegression()</pre></div></div></div></div></div>"
          },
          "metadata": {}
        }
      ]
    },
    {
      "cell_type": "code",
      "source": [
        "y_predicted = mdl.predict(x_test)"
      ],
      "metadata": {
        "execution": {
          "iopub.status.busy": "2024-06-27T09:59:13.84944Z",
          "iopub.execute_input": "2024-06-27T09:59:13.850609Z",
          "iopub.status.idle": "2024-06-27T09:59:13.867586Z",
          "shell.execute_reply.started": "2024-06-27T09:59:13.85055Z",
          "shell.execute_reply": "2024-06-27T09:59:13.865258Z"
        },
        "trusted": true,
        "id": "cF9ztTYGQGFw"
      },
      "execution_count": null,
      "outputs": []
    },
    {
      "cell_type": "code",
      "source": [
        "from sklearn.metrics import accuracy_score\n",
        "accuracy= accuracy_score(y_test,y_predicted)"
      ],
      "metadata": {
        "execution": {
          "iopub.status.busy": "2024-06-27T10:00:15.881924Z",
          "iopub.execute_input": "2024-06-27T10:00:15.882983Z",
          "iopub.status.idle": "2024-06-27T10:00:15.890782Z",
          "shell.execute_reply.started": "2024-06-27T10:00:15.882946Z",
          "shell.execute_reply": "2024-06-27T10:00:15.889432Z"
        },
        "trusted": true,
        "id": "hZvSrxmdQGFw"
      },
      "execution_count": null,
      "outputs": []
    },
    {
      "cell_type": "code",
      "source": [
        "print(\"the accuracy is :\",accuracy)"
      ],
      "metadata": {
        "execution": {
          "iopub.status.busy": "2024-06-27T10:01:18.282645Z",
          "iopub.execute_input": "2024-06-27T10:01:18.283055Z",
          "iopub.status.idle": "2024-06-27T10:01:18.290762Z",
          "shell.execute_reply.started": "2024-06-27T10:01:18.283024Z",
          "shell.execute_reply": "2024-06-27T10:01:18.288899Z"
        },
        "trusted": true,
        "id": "kcMHfG-PQGFw",
        "outputId": "42c69c1c-efd0-4d76-d589-f43b24087463"
      },
      "execution_count": null,
      "outputs": [
        {
          "name": "stdout",
          "text": "the accuracy is : 0.9232505643340858\n",
          "output_type": "stream"
        }
      ]
    },
    {
      "cell_type": "code",
      "source": [
        "mdl.score(x_test,y_test) #Accuracy_again"
      ],
      "metadata": {
        "execution": {
          "iopub.status.busy": "2024-06-27T10:01:43.41978Z",
          "iopub.execute_input": "2024-06-27T10:01:43.420626Z",
          "iopub.status.idle": "2024-06-27T10:01:43.442626Z",
          "shell.execute_reply.started": "2024-06-27T10:01:43.420566Z",
          "shell.execute_reply": "2024-06-27T10:01:43.440797Z"
        },
        "trusted": true,
        "id": "eQfT1VdBQGFw",
        "outputId": "534ae125-07d3-4165-c516-2bc1fbcb6538"
      },
      "execution_count": null,
      "outputs": [
        {
          "execution_count": 64,
          "output_type": "execute_result",
          "data": {
            "text/plain": "0.9232505643340858"
          },
          "metadata": {}
        }
      ]
    },
    {
      "cell_type": "code",
      "source": [
        "import matplotlib.pyplot as plt\n",
        "import seaborn as sns\n",
        "from sklearn.metrics import confusion_matrix\n",
        "c1=confusion_matrix(y_test,y_predicted,labels=mdl.classes_)\n",
        "plt.figure(figsize=(12,8))\n",
        "sns.heatmap(c1,annot=True,xticklabels=mdl.classes_,yticklabels=mdl.classes_)"
      ],
      "metadata": {
        "execution": {
          "iopub.status.busy": "2024-06-27T10:27:48.257831Z",
          "iopub.execute_input": "2024-06-27T10:27:48.258227Z",
          "iopub.status.idle": "2024-06-27T10:27:48.601448Z",
          "shell.execute_reply.started": "2024-06-27T10:27:48.258198Z",
          "shell.execute_reply": "2024-06-27T10:27:48.600048Z"
        },
        "trusted": true,
        "id": "fJeWTcYFQGFw",
        "outputId": "a9a032db-f000-4b97-8ff9-d232440e0c75"
      },
      "execution_count": null,
      "outputs": [
        {
          "execution_count": 72,
          "output_type": "execute_result",
          "data": {
            "text/plain": "<Axes: >"
          },
          "metadata": {}
        },
        {
          "output_type": "display_data",
          "data": {
            "text/plain": "<Figure size 1200x800 with 2 Axes>",
            "image/png": "[encoded data removed]"
          },
          "metadata": {}
        }
      ]
    }
  ]
}